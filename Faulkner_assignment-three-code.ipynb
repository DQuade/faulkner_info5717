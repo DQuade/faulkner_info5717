{
 "cells": [
  {
   "cell_type": "code",
   "execution_count": null,
   "metadata": {},
   "outputs": [],
   "source": [
    "Q1"
   ]
  },
  {
   "cell_type": "code",
   "execution_count": null,
   "metadata": {
    "scrolled": true
   },
   "outputs": [],
   "source": [
    "import re\n",
    "from collections import Counter\n",
    "\n",
    "Text = \"Harry lay in his dark cupboard much later, wishing he had a watch. He didn't know what time it was and he couldn't be sure the Dursleys were asleep yet. Until they were, he couldn't risk sneaking to the kitchen for some food. He'd lived with the Dursleys almost ten years, ten miserable years, as long as he could remember, ever since he'd been a baby and his parents had died in that car crash. He couldn't remember being in the car when his parents had died. Sometimes, when he strained his memory during long hours in his cupboard, he came up with a strange vision: a blinding flash of green light and a burning pain on his forehead. This, he supposed, was the crash, though he couldn't imagine where all the green light came from. He couldn't remember his parents at all. His aunt and uncle never spoke about them, and of course he was forbidden to ask questions. There were no photographs of them in the house.\"\n",
    "\n",
    "\n",
    "stopwords = \"a, about, above, after, again, against, all, am, an, and, any, are, aren't, as, at, be, because, been, before, being, below, between, both, but, by, cannot, can't, could, couldn't, did, didn't, do, does, doesn't, doing, don't, down, during, each, few, for, from, further, had, hadn't, has, hasn't, have, haven't, having, he, he'd, he'll, her, here, here's, hers, herself, he's, him, himself, his, how, how's, i, i'd, if, i'll, i'm, in, into, is, isn't, it, its, it's, itself, i've, let's, me, more, most, mustn't, my, myself, no, nor, not, of, off, on, once, only, or, other, ought, our, ours\tourselves, out, over, own, same, shan't, she, she'd, she'll, she's, should, shouldn't, so, some, such, than, that, that's, the, their, theirs, them, themselves, then, there, there's, these, they, they'd, they'll, they're, they've, this, those, through, to, too, under, until, up, very, was, wasn't, we, we'd, we'll, were, we're, weren't, we've, what, what's, when, when's, where, where's, which, while, who, whom, who's, why, why's, with, won't, would, wouldn't, you, you'd, you'll, your, you're, yours, yourself, yourselves, you've\"\n",
    "Txt_List = re.sub('[,.:]', '', Text).upper().split(' ')\n",
    "\n",
    "Stopwords_List = stopwords.upper().split(', ')\n",
    "\n",
    "\n",
    "\n",
    "print('Q1 - Part 1')\n",
    "vowel_frequency = []\n",
    "vowel_list = []\n",
    "vowel_count = 0\n",
    "for word in Txt_List:\n",
    "  \n",
    "  if word[0] in ['A','E','I','O','U']:\n",
    "    vowel_count=vowel_count+1\n",
    "    vowel_list.append(word.upper())\n",
    "    #inside the loop to keep count, if it was outside it would only return a value of 1 for each\n",
    "    vowel_frequency=Counter(vowel_list)\n",
    "\n",
    "vowel_list.sort()\n",
    "#sort in decreasing order of frequency, can't sourt the count list.\n",
    "print(vowel_count, 'words in the text begin with a vowel')\n",
    "print(vowel_frequency)\n",
    "print()\n",
    "\n",
    "contains_apos = re.findall(\"[\\w]+['][\\w]+\", Text.upper())\n",
    "print(*contains_apos, sep = \"\\n\")\n",
    "print()\n",
    "\n",
    "\n",
    "\n",
    "for word in Stopwords_List:\n",
    "  i=0 \n",
    "  length = len(Txt_List)  \n",
    "  while(i<length):#\n",
    "    if(Txt_List[i]==word):\n",
    "      Txt_List.remove (Txt_List[i]) \n",
    "      \n",
    "      length = length -1 \n",
    "      continue\n",
    "    i = i+1\n",
    "print(Txt_List)\n",
    "print()\n",
    "\n",
    "\n",
    "\n"
   ]
  },
  {
   "cell_type": "code",
   "execution_count": null,
   "metadata": {},
   "outputs": [],
   "source": [
    "q2"
   ]
  },
  {
   "cell_type": "code",
   "execution_count": null,
   "metadata": {},
   "outputs": [],
   "source": [
    "import pandas as pd\n",
    "import statistics\n",
    "import os\n",
    "\n",
    "year11 = pd.read_csv('2011-jan-june.csv')\n",
    "year18 = pd.read_csv('2018-jan-jun.csv')\n",
    "\n",
    "def maths (x, y, z):\n",
    "\tmean1 = statistics.mean(x)\n",
    "\tlowmean = statistics.mean(y)\n",
    "\tmedian = statistics.median(x)\n",
    "\tlmedian = statistics.median(y)\n",
    "\tldevi = statistics.stdev(y)\n",
    "\tdevi = statistics.stdev(x)\n",
    "\tprint (lmedian)\n",
    "\tprint ('file name\\t', 'mean\\t\\t' ,  'median\\t\\t' ,  'standard deviation \\n',z, '\\t', round(mean1), round(lowmean),'\\t\\t', round(median), round(lmedian),'\\t\\t', round(devi), round(ldevi))\n",
    "\n",
    "\n",
    "\n",
    "print (maths(year11['High'], year11['Low'], '2011-jan-june'))\n",
    "print (maths(year18['High'], year18['Low'], '2018-jan-jun'))"
   ]
  },
  {
   "cell_type": "markdown",
   "metadata": {},
   "source": [
    "q3 i relized i did not answer the question corectly but it was too late "
   ]
  },
  {
   "cell_type": "code",
   "execution_count": 4,
   "metadata": {},
   "outputs": [
    {
     "name": "stdout",
     "output_type": "stream",
     "text": [
      "first name student test\n",
      "middle name studentmid\n",
      "last name studentname\n",
      "tmn253\n",
      "student euidtmn253\n",
      " it worked\n",
      "class number1111\n",
      "class semesterfall\n",
      "grade 85\n",
      "     euid first_name lat_name middle_name class_number class_semester  \\\n",
      "0  tmn253       test     name         mid         1111           fall   \n",
      "\n",
      "   class_grade  \n",
      "0           85  \n"
     ]
    }
   ],
   "source": [
    "\n",
    "import pandas as pd\n",
    "import random\n",
    "\n",
    "student_name = pd.DataFrame()\n",
    "df_student = pd.DataFrame(columns = ['first_name', 'middle_name', 'lat_name', 'euid'])\n",
    "\n",
    "\n",
    "\n",
    "class Student:\n",
    "\n",
    "    def __init__(self, fname, lname, mname,euid, clas):\n",
    "        self.fname = fname\n",
    "        self.lname = lname\n",
    "        self.mname = mname\n",
    "        self.euid = euid\n",
    "        self.clas = clas\n",
    "\n",
    "    ## student table\n",
    "     \n",
    "    def name_input ():\n",
    "        global df_student\n",
    "        fn = input (\"first name student \" )\n",
    "        md = input(\"middle name student\")\n",
    "        lt = input('last name student')\n",
    "        first_i = fn[0]\n",
    "        mid_i = md[0]\n",
    "        last_i = lt[0]\n",
    "        number = random.randrange (300)\n",
    "        euid = (first_i + mid_i + last_i + str(number))\n",
    "        df1 = pd.DataFrame(data=[[fn,md,lt, euid]],columns=[\"first_name\", \"middle_name\", \"lat_name\", 'euid'])\n",
    "        df_student = pd.concat([df_student, df1,], axis=0, sort = True)\n",
    "        print (euid)\n",
    "\n",
    "    def registor():\n",
    "        global df_student\n",
    "        student_id = input(\"student euid\")\n",
    "        for line in df_student:\n",
    "            if line.startswith('euid'):\n",
    "                print (' it worked')\n",
    "                class_num = input(\"class number\")\n",
    "                class_sem = input('class semester')\n",
    "                clas_grade = int(input(\"grade \"))\n",
    "                regs = pd.DataFrame(data=[[class_num, class_sem, clas_grade]], columns = ['class_number', 'class_semester', 'class_grade'])\n",
    "\n",
    "                concat = pd.concat([df_student,regs], axis= 1)\n",
    "          \n",
    "                df_student = concat\n",
    "                break\n",
    "            else:\n",
    "                print('student not in system')\n",
    "\n",
    "\n",
    "\n",
    "            \n",
    "\n",
    "Student.name_input()\n",
    "#print (df_student)\n",
    "Student.registor()\n",
    "print (df_student)\n"
   ]
  },
  {
   "cell_type": "code",
   "execution_count": 1,
   "metadata": {},
   "outputs": [
    {
     "ename": "NameError",
     "evalue": "name 'bonus' is not defined",
     "output_type": "error",
     "traceback": [
      "\u001b[1;31m---------------------------------------------------------------------------\u001b[0m",
      "\u001b[1;31mNameError\u001b[0m                                 Traceback (most recent call last)",
      "\u001b[1;32m<ipython-input-1-58d7593a0942>\u001b[0m in \u001b[0;36m<module>\u001b[1;34m\u001b[0m\n\u001b[1;32m----> 1\u001b[1;33m \u001b[0mbonus\u001b[0m\u001b[1;33m\u001b[0m\u001b[1;33m\u001b[0m\u001b[0m\n\u001b[0m",
      "\u001b[1;31mNameError\u001b[0m: name 'bonus' is not defined"
     ]
    }
   ],
   "source": [
    "bonus\n"
   ]
  },
  {
   "cell_type": "code",
   "execution_count": null,
   "metadata": {},
   "outputs": [
    {
     "name": "stdout",
     "output_type": "stream",
     "text": [
      "*****************************\n",
      "**  a simple math quiz     **\n",
      "*****************************\n",
      "------------------------\n",
      "1. Addition\n",
      "2. Subtraction\n",
      "3. Multiplication\n",
      "4. Integer Division\n",
      " 5.Exit \n",
      "------------------------\n",
      "enter your Choice:\n"
     ]
    }
   ],
   "source": [
    "\n",
    "\n",
    "\n",
    "def quiz_introduction():\n",
    "\n",
    "\tprint('*****************************')\n",
    "\tprint('**  a simple math quiz     **')\n",
    "\tprint(\"*****************************\")\n",
    "quiz_introduction()\n",
    "print ('-'*24)\n",
    "def quiz_question():\n",
    "\tprint('1. Addition\\n2. Subtraction\\n3. Multiplication\\n4. Integer Division\\n 5.Exit ')\n",
    "\n",
    "quiz_question()\n",
    "print ('-'*24)\n",
    "\n",
    "def get_user_question_choice():\n",
    "\t\n",
    "\tprint ('enter your Choice:')\n",
    "\tglobal choice\n",
    "\tchoice = input()\n",
    "\t\n",
    "\n",
    "\n",
    "\n",
    "x = get_user_question_choice()\n",
    "\n",
    "def get_user_input_solution(problem):\n",
    "\tprint (problem)\n",
    "\tprint(\"enter your answer\")\n",
    "\tx = (input)\n",
    "\n",
    "\tresult = int(input('='))\n",
    "\treturn result\n",
    "get_user_input_solution(x)\n",
    "\n",
    "#def solution_checking(user_solution, count):\n",
    "\n",
    "\n",
    "#def quiz_questions(index, count):\n",
    "\n",
    "\n",
    "#def show_result(total, correct):\n"
   ]
  },
  {
   "cell_type": "code",
   "execution_count": null,
   "metadata": {},
   "outputs": [],
   "source": []
  },
  {
   "cell_type": "code",
   "execution_count": null,
   "metadata": {},
   "outputs": [],
   "source": []
  },
  {
   "cell_type": "code",
   "execution_count": null,
   "metadata": {},
   "outputs": [],
   "source": []
  },
  {
   "cell_type": "code",
   "execution_count": null,
   "metadata": {},
   "outputs": [],
   "source": []
  }
 ],
 "metadata": {
  "kernelspec": {
   "display_name": "Python 3",
   "language": "python",
   "name": "python3"
  },
  "language_info": {
   "codemirror_mode": {
    "name": "ipython",
    "version": 3
   },
   "file_extension": ".py",
   "mimetype": "text/x-python",
   "name": "python",
   "nbconvert_exporter": "python",
   "pygments_lexer": "ipython3",
   "version": "3.7.3"
  }
 },
 "nbformat": 4,
 "nbformat_minor": 2
}
